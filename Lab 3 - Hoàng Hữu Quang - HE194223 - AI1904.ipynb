{
 "cells": [
  {
   "cell_type": "markdown",
   "metadata": {
    "deletable": false,
    "editable": false,
    "tags": []
   },
   "source": [
    "<center>\n",
    "    <img src=\"https://fpt.edu.vn/Resources/brand/uploads/749540_132829686029858301_o.jpg\" width=\"300\" alt=\"AI1906\"  />\n",
    " \n",
    "# Lab 3: Access SQL Database Server using Python\n",
    "</center>\n",
    "\n"
   ]
  },
  {
   "cell_type": "markdown",
   "metadata": {
    "tags": []
   },
   "source": [
    "<br>\n",
    "\n",
    "#### Class name: AI1904\n",
    "\n",
    "#### Student code: HE194223\n",
    "\n",
    "#### Student name: Hoàng Hữu Quang\n",
    "\n",
    "<br>"
   ]
  },
  {
   "cell_type": "markdown",
   "metadata": {
    "deletable": false,
    "editable": false,
    "tags": []
   },
   "source": [
    "\n",
    "## Objectives\n",
    "\n",
    "After completing this lab you will be able to:\n",
    "\n",
    "*   Create connection with SQL Server using pyodbc\n",
    "*   Query data from the table\n",
    "*   Retrieve the result set into a pandas dataframe\n",
    "*   Close the database connection\n",
    "\n",
    "Estimated time needed: **60** minutes\n",
    "<h4 style='color:red;'>Note:\n",
    "    <ul>\n",
    "    <li>The results need to display all the necessary information to verify that the data obtained is correct.</li>\n",
    "    <li>Any cheater who copies or shares the code will receive 1 point.</li>\n",
    "    </ul>\n",
    "</h4>"
   ]
  },
  {
   "cell_type": "markdown",
   "metadata": {
    "deletable": false,
    "editable": false,
    "tags": []
   },
   "source": [
    "**Notice:** Please follow the instructions given by lecture to import data from .csv file to SQL database server. The assignment will be graded based on the results displayed in the notebook, so the results should show enough information to prove that the results are correct.\n",
    "\n",
    "## Import the `pyodbc` Python library\n",
    "\n",
    "The `pyodbc` [API ](https://pypi.org/project/pyodbc/) provides a variety of useful Python functions for accessing and manipulating data with SQL Server database, including functions for connecting to a database, preparing and issuing SQL statements, fetching rows from result sets, calling stored procedures, committing and rolling back transactions, handling errors, and retrieving metadata.\n",
    "\n",
    "We import the `pyodbc` library into our Python Application\n",
    "\n",
    "The following required modules are pre-installed in the Annaconda environment. However if you run this notebook commands in a different Jupyter environment (e.g. Watson Studio) you may need to install these libraries by removing the `#` sign before `!pip` in the code cell below.\n"
   ]
  },
  {
   "cell_type": "code",
   "execution_count": 117,
   "metadata": {
    "deletable": false,
    "editable": false,
    "tags": []
   },
   "outputs": [],
   "source": [
    "# The library are pre-installed in anaconda enviroment. If error happen when running please uncomment lines below to install them:\n",
    "# !pip install pyodbc\n",
    "# !pip install pandas"
   ]
  },
  {
   "cell_type": "code",
   "execution_count": 118,
   "metadata": {
    "deletable": false,
    "editable": false,
    "tags": []
   },
   "outputs": [],
   "source": [
    "import pyodbc\n",
    "import pandas as pd\n",
    "import warnings\n",
    "\n",
    "warnings.filterwarnings('ignore')"
   ]
  },
  {
   "cell_type": "markdown",
   "metadata": {
    "deletable": false,
    "editable": false,
    "tags": []
   },
   "source": [
    "When the command above completes, the `pyodbc` and `pandas` library is loaded in your notebook.\n",
    "\n",
    "## Identify the database connection properties\n",
    "\n",
    "Connecting to SQL database server requires the following information:\n",
    "\n",
    "*   Driver Name\n",
    "*   Server\n",
    "*   Database\n",
    "*   User ID\n",
    "*   User Password\n"
   ]
  },
  {
   "cell_type": "code",
   "execution_count": 120,
   "metadata": {},
   "outputs": [
    {
     "name": "stdout",
     "output_type": "stream",
     "text": [
      "Connected to SQL database Server: GNS-0000T-E\\VEDA \n",
      "Database: ADY_LAB3\n"
     ]
    }
   ],
   "source": [
    "#Replace the placeholder values with the actuals for your SQL Server connection properties\n",
    "Server   = \"GNS-0000T-E\\VEDA\"\n",
    "Database = \"ADY_LAB3\"\n",
    "UID      = \"GNS-0000T-E\\hoang\"\n",
    "PWD      = \"<Replace with password if needed>\"\n",
    "\n",
    "connection_str = (\"Driver={ODBC Driver 17 for SQL Server};\"\n",
    "                  \"Server=\" + Server + \";\"\n",
    "                  \"Database=\" + Database + \";\"\n",
    "                  \"Trusted_Connection=yes;\")\n",
    "\n",
    "# connection_str = (\"Driver={SQL Server Native Client 11.0};\"\n",
    "#                   \"Server=\"+ Server + \";\"\n",
    "#                   \"Database=\"+ Database + \";\"\n",
    "#                   \"UID=\"+ UID + \";\"\n",
    "#                   \"PWD=\"+ PWD + \";\")\n",
    "\n",
    "try:\n",
    "    connection = pyodbc.connect(connection_str)\n",
    "    print (\"Connected to SQL database Server:\", Server, \"\\nDatabase: \" + Database)\n",
    "except pyodbc.Error as ex:\n",
    "    sqlstate = ex.args[1]\n",
    "    print (\"Unable to connect: \", sqlstate)"
   ]
  },
  {
   "cell_type": "markdown",
   "metadata": {
    "deletable": false,
    "editable": false,
    "tags": []
   },
   "source": [
    "## Data structure understanding\n",
    "\n",
    "This dataset shows all school level performance data used to create CPS School Report Cards for the 2011-2012 school year.\n",
    "\n",
    "Chicago_Public_Schools_-_Progress_Report_Cards__2011-2012_.csv <a href='https://data.cityofchicago.org/Education/Chicago-Public-Schools-Progress-Report-Cards-2011-/9xs2-f89t?utm_medium=Exinfluencer&utm_source=Exinfluencer&utm_content=000026UJ&utm_term=10006555&utm_id=NA-SkillsNetwork-Channel-SkillsNetworkCoursesIBMDev'>link<a/>\n",
    "\n",
    "You are requested import this data set into SQL Server and and discover what's inside the data."
   ]
  },
  {
   "cell_type": "code",
   "execution_count": 122,
   "metadata": {
    "deletable": false,
    "tags": []
   },
   "outputs": [
    {
     "data": {
      "text/html": [
       "<div>\n",
       "<style scoped>\n",
       "    .dataframe tbody tr th:only-of-type {\n",
       "        vertical-align: middle;\n",
       "    }\n",
       "\n",
       "    .dataframe tbody tr th {\n",
       "        vertical-align: top;\n",
       "    }\n",
       "\n",
       "    .dataframe thead th {\n",
       "        text-align: right;\n",
       "    }\n",
       "</style>\n",
       "<table border=\"1\" class=\"dataframe\">\n",
       "  <thead>\n",
       "    <tr style=\"text-align: right;\">\n",
       "      <th></th>\n",
       "      <th>School_ID</th>\n",
       "      <th>Name_of_School</th>\n",
       "      <th>Elementary_Middle_or_High_School</th>\n",
       "      <th>Street_Address</th>\n",
       "      <th>City</th>\n",
       "      <th>State</th>\n",
       "      <th>ZIP_Code</th>\n",
       "      <th>Phone_Number</th>\n",
       "      <th>Link</th>\n",
       "      <th>Network_Manager</th>\n",
       "      <th>...</th>\n",
       "      <th>RCDTS_Code</th>\n",
       "      <th>X_COORDINATE</th>\n",
       "      <th>Y_COORDINATE</th>\n",
       "      <th>Latitude</th>\n",
       "      <th>Longitude</th>\n",
       "      <th>Community_Area_Number</th>\n",
       "      <th>Community_Area_Name</th>\n",
       "      <th>Ward</th>\n",
       "      <th>Police_District</th>\n",
       "      <th>Location</th>\n",
       "    </tr>\n",
       "  </thead>\n",
       "  <tbody>\n",
       "    <tr>\n",
       "      <th>0</th>\n",
       "      <td>609966</td>\n",
       "      <td>Charles G Hammond Elementary School</td>\n",
       "      <td>ES</td>\n",
       "      <td>2819 W 21st Pl</td>\n",
       "      <td>Chicago</td>\n",
       "      <td>IL</td>\n",
       "      <td>60623</td>\n",
       "      <td>(773) 535-4580</td>\n",
       "      <td>http://schoolreports.cps.edu/SchoolProgressRep...</td>\n",
       "      <td>Pilsen-Little Village Elementary Network</td>\n",
       "      <td>...</td>\n",
       "      <td>150000000000000</td>\n",
       "      <td>1.157809e+09</td>\n",
       "      <td>1.889555e+09</td>\n",
       "      <td>4.185269e+09</td>\n",
       "      <td>-8.769628e+09</td>\n",
       "      <td>30</td>\n",
       "      <td>SOUTH LAWNDALE</td>\n",
       "      <td>12</td>\n",
       "      <td>10</td>\n",
       "      <td>(41.85269133, -87.69627777)</td>\n",
       "    </tr>\n",
       "    <tr>\n",
       "      <th>1</th>\n",
       "      <td>610539</td>\n",
       "      <td>Marvin Camras Elementary School</td>\n",
       "      <td>ES</td>\n",
       "      <td>3000 N Mango Ave</td>\n",
       "      <td>Chicago</td>\n",
       "      <td>IL</td>\n",
       "      <td>60634</td>\n",
       "      <td>(773) 534-2960</td>\n",
       "      <td>http://schoolreports.cps.edu/SchoolProgressRep...</td>\n",
       "      <td>Fullerton Elementary Network</td>\n",
       "      <td>...</td>\n",
       "      <td>150000000000000</td>\n",
       "      <td>1.137482e+09</td>\n",
       "      <td>1.919395e+07</td>\n",
       "      <td>4.193497e+09</td>\n",
       "      <td>-8.777016e+09</td>\n",
       "      <td>19</td>\n",
       "      <td>BELMONT CRAGIN</td>\n",
       "      <td>30</td>\n",
       "      <td>25</td>\n",
       "      <td>(41.93496641, -87.77016525)</td>\n",
       "    </tr>\n",
       "    <tr>\n",
       "      <th>2</th>\n",
       "      <td>609852</td>\n",
       "      <td>Eliza Chappell Elementary School</td>\n",
       "      <td>ES</td>\n",
       "      <td>2135 W Foster Ave</td>\n",
       "      <td>Chicago</td>\n",
       "      <td>IL</td>\n",
       "      <td>60625</td>\n",
       "      <td>(773) 534-2390</td>\n",
       "      <td>http://schoolreports.cps.edu/SchoolProgressRep...</td>\n",
       "      <td>Ravenswood-Ridge Elementary Network</td>\n",
       "      <td>...</td>\n",
       "      <td>150000000000000</td>\n",
       "      <td>1.161017e+09</td>\n",
       "      <td>1.934467e+09</td>\n",
       "      <td>4.197587e+07</td>\n",
       "      <td>-8.768326e+09</td>\n",
       "      <td>4</td>\n",
       "      <td>LINCOLN SQUARE</td>\n",
       "      <td>47</td>\n",
       "      <td>20</td>\n",
       "      <td>(41.975867, -87.68325438)</td>\n",
       "    </tr>\n",
       "    <tr>\n",
       "      <th>3</th>\n",
       "      <td>609835</td>\n",
       "      <td>Daniel R Cameron Elementary School</td>\n",
       "      <td>ES</td>\n",
       "      <td>1234 N Monticello Ave</td>\n",
       "      <td>Chicago</td>\n",
       "      <td>IL</td>\n",
       "      <td>60651</td>\n",
       "      <td>(773) 534-4290</td>\n",
       "      <td>http://schoolreports.cps.edu/SchoolProgressRep...</td>\n",
       "      <td>Garfield-Humboldt Elementary Network</td>\n",
       "      <td>...</td>\n",
       "      <td>150000000000000</td>\n",
       "      <td>1.151768e+09</td>\n",
       "      <td>1.908130e+09</td>\n",
       "      <td>4.190378e+09</td>\n",
       "      <td>-8.771796e+09</td>\n",
       "      <td>23</td>\n",
       "      <td>HUMBOLDT PARK</td>\n",
       "      <td>26</td>\n",
       "      <td>25</td>\n",
       "      <td>(41.90378521, -87.71796315)</td>\n",
       "    </tr>\n",
       "    <tr>\n",
       "      <th>4</th>\n",
       "      <td>610521</td>\n",
       "      <td>Sir Miles Davis Magnet Elementary Academy</td>\n",
       "      <td>ES</td>\n",
       "      <td>6730 S Paulina St</td>\n",
       "      <td>Chicago</td>\n",
       "      <td>IL</td>\n",
       "      <td>60636</td>\n",
       "      <td>(773) 535-9120</td>\n",
       "      <td>http://schoolreports.cps.edu/SchoolProgressRep...</td>\n",
       "      <td>Englewood-Gresham Elementary Network</td>\n",
       "      <td>...</td>\n",
       "      <td>150000000000000</td>\n",
       "      <td>1.166134e+09</td>\n",
       "      <td>1.859929e+09</td>\n",
       "      <td>4.177122e+09</td>\n",
       "      <td>-8.766657e+09</td>\n",
       "      <td>67</td>\n",
       "      <td>WEST ENGLEWOOD</td>\n",
       "      <td>15</td>\n",
       "      <td>7</td>\n",
       "      <td>(41.77122181, -87.66656657)</td>\n",
       "    </tr>\n",
       "  </tbody>\n",
       "</table>\n",
       "<p>5 rows × 79 columns</p>\n",
       "</div>"
      ],
      "text/plain": [
       "   School_ID                             Name_of_School  \\\n",
       "0     609966        Charles G Hammond Elementary School   \n",
       "1     610539            Marvin Camras Elementary School   \n",
       "2     609852           Eliza Chappell Elementary School   \n",
       "3     609835         Daniel R Cameron Elementary School   \n",
       "4     610521  Sir Miles Davis Magnet Elementary Academy   \n",
       "\n",
       "  Elementary_Middle_or_High_School          Street_Address     City State  \\\n",
       "0                               ES         2819 W 21st Pl   Chicago    IL   \n",
       "1                               ES       3000 N Mango Ave   Chicago    IL   \n",
       "2                               ES      2135 W Foster Ave   Chicago    IL   \n",
       "3                               ES  1234 N Monticello Ave   Chicago    IL   \n",
       "4                               ES      6730 S Paulina St   Chicago    IL   \n",
       "\n",
       "   ZIP_Code    Phone_Number  \\\n",
       "0     60623  (773) 535-4580   \n",
       "1     60634  (773) 534-2960   \n",
       "2     60625  (773) 534-2390   \n",
       "3     60651  (773) 534-4290   \n",
       "4     60636  (773) 535-9120   \n",
       "\n",
       "                                                Link  \\\n",
       "0  http://schoolreports.cps.edu/SchoolProgressRep...   \n",
       "1  http://schoolreports.cps.edu/SchoolProgressRep...   \n",
       "2  http://schoolreports.cps.edu/SchoolProgressRep...   \n",
       "3  http://schoolreports.cps.edu/SchoolProgressRep...   \n",
       "4  http://schoolreports.cps.edu/SchoolProgressRep...   \n",
       "\n",
       "                            Network_Manager  ...       RCDTS_Code  \\\n",
       "0  Pilsen-Little Village Elementary Network  ...  150000000000000   \n",
       "1              Fullerton Elementary Network  ...  150000000000000   \n",
       "2       Ravenswood-Ridge Elementary Network  ...  150000000000000   \n",
       "3      Garfield-Humboldt Elementary Network  ...  150000000000000   \n",
       "4      Englewood-Gresham Elementary Network  ...  150000000000000   \n",
       "\n",
       "   X_COORDINATE  Y_COORDINATE      Latitude     Longitude  \\\n",
       "0  1.157809e+09  1.889555e+09  4.185269e+09 -8.769628e+09   \n",
       "1  1.137482e+09  1.919395e+07  4.193497e+09 -8.777016e+09   \n",
       "2  1.161017e+09  1.934467e+09  4.197587e+07 -8.768326e+09   \n",
       "3  1.151768e+09  1.908130e+09  4.190378e+09 -8.771796e+09   \n",
       "4  1.166134e+09  1.859929e+09  4.177122e+09 -8.766657e+09   \n",
       "\n",
       "   Community_Area_Number Community_Area_Name  Ward Police_District  \\\n",
       "0                     30      SOUTH LAWNDALE    12              10   \n",
       "1                     19      BELMONT CRAGIN    30              25   \n",
       "2                      4      LINCOLN SQUARE    47              20   \n",
       "3                     23       HUMBOLDT PARK    26              25   \n",
       "4                     67      WEST ENGLEWOOD    15               7   \n",
       "\n",
       "                      Location  \n",
       "0  (41.85269133, -87.69627777)  \n",
       "1  (41.93496641, -87.77016525)  \n",
       "2    (41.975867, -87.68325438)  \n",
       "3  (41.90378521, -87.71796315)  \n",
       "4  (41.77122181, -87.66656657)  \n",
       "\n",
       "[5 rows x 79 columns]"
      ]
     },
     "execution_count": 122,
     "metadata": {},
     "output_type": "execute_result"
    }
   ],
   "source": [
    "# You could run the following select query to first five records of INSTRUCTOR table\n",
    "query_str = \"SELECT TOP(10) * FROM [Chicago_Public_Schools_-_Progress_Report_Cards__2011-2012__20241004]\"\n",
    "\n",
    "data = pd.read_sql(query_str, connection)\n",
    "data.head()"
   ]
  },
  {
   "cell_type": "markdown",
   "metadata": {
    "deletable": false,
    "editable": false,
    "tags": []
   },
   "source": [
    "## Task 1: Count the number of Elementary School, Middle School and High School in a query.\n",
    "\n"
   ]
  },
  {
   "cell_type": "code",
   "execution_count": 124,
   "metadata": {},
   "outputs": [
    {
     "data": {
      "text/html": [
       "<div>\n",
       "<style scoped>\n",
       "    .dataframe tbody tr th:only-of-type {\n",
       "        vertical-align: middle;\n",
       "    }\n",
       "\n",
       "    .dataframe tbody tr th {\n",
       "        vertical-align: top;\n",
       "    }\n",
       "\n",
       "    .dataframe thead th {\n",
       "        text-align: right;\n",
       "    }\n",
       "</style>\n",
       "<table border=\"1\" class=\"dataframe\">\n",
       "  <thead>\n",
       "    <tr style=\"text-align: right;\">\n",
       "      <th></th>\n",
       "      <th>Elementary_Middle_or_High_School</th>\n",
       "      <th>School_Count</th>\n",
       "    </tr>\n",
       "  </thead>\n",
       "  <tbody>\n",
       "    <tr>\n",
       "      <th>0</th>\n",
       "      <td>ES</td>\n",
       "      <td>462</td>\n",
       "    </tr>\n",
       "    <tr>\n",
       "      <th>1</th>\n",
       "      <td>HS</td>\n",
       "      <td>93</td>\n",
       "    </tr>\n",
       "    <tr>\n",
       "      <th>2</th>\n",
       "      <td>MS</td>\n",
       "      <td>11</td>\n",
       "    </tr>\n",
       "  </tbody>\n",
       "</table>\n",
       "</div>"
      ],
      "text/plain": [
       "  Elementary_Middle_or_High_School  School_Count\n",
       "0                               ES           462\n",
       "1                               HS            93\n",
       "2                               MS            11"
      ]
     },
     "execution_count": 124,
     "metadata": {},
     "output_type": "execute_result"
    }
   ],
   "source": [
    "#Enter your code below\n",
    "query_str = \"\"\"\n",
    "SELECT \n",
    "    Elementary_Middle_or_High_School,\n",
    "    COUNT(*) AS School_Count\n",
    "FROM \n",
    "    [Chicago_Public_Schools_-_Progress_Report_Cards__2011-2012__20241004]\n",
    "WHERE \n",
    "    Elementary_Middle_or_High_School IN ('ES', 'MS', 'HS')\n",
    "GROUP BY \n",
    "    Elementary_Middle_or_High_School;\n",
    "\"\"\"\n",
    "\n",
    "data = pd.read_sql(query_str, connection)\n",
    "data"
   ]
  },
  {
   "cell_type": "markdown",
   "metadata": {
    "deletable": false,
    "editable": false,
    "tags": []
   },
   "source": [
    "## Task 2: Find the school that has lowest average student attendance\n"
   ]
  },
  {
   "cell_type": "code",
   "execution_count": 126,
   "metadata": {},
   "outputs": [
    {
     "data": {
      "text/html": [
       "<div>\n",
       "<style scoped>\n",
       "    .dataframe tbody tr th:only-of-type {\n",
       "        vertical-align: middle;\n",
       "    }\n",
       "\n",
       "    .dataframe tbody tr th {\n",
       "        vertical-align: top;\n",
       "    }\n",
       "\n",
       "    .dataframe thead th {\n",
       "        text-align: right;\n",
       "    }\n",
       "</style>\n",
       "<table border=\"1\" class=\"dataframe\">\n",
       "  <thead>\n",
       "    <tr style=\"text-align: right;\">\n",
       "      <th></th>\n",
       "      <th>Name_of_School</th>\n",
       "      <th>Average_Student_Attendance</th>\n",
       "    </tr>\n",
       "  </thead>\n",
       "  <tbody>\n",
       "    <tr>\n",
       "      <th>0</th>\n",
       "      <td>Richard T Crane Technical Preparatory High School</td>\n",
       "      <td>579.0</td>\n",
       "    </tr>\n",
       "  </tbody>\n",
       "</table>\n",
       "</div>"
      ],
      "text/plain": [
       "                                      Name_of_School  \\\n",
       "0  Richard T Crane Technical Preparatory High School   \n",
       "\n",
       "   Average_Student_Attendance  \n",
       "0                       579.0  "
      ]
     },
     "execution_count": 126,
     "metadata": {},
     "output_type": "execute_result"
    }
   ],
   "source": [
    "#Enter your code below\n",
    "query_str = \"\"\"\n",
    "SELECT \n",
    "    Name_of_School, Average_Student_Attendance\n",
    "FROM \n",
    "    [Chicago_Public_Schools_-_Progress_Report_Cards__2011-2012__20241004]\n",
    "WHERE \n",
    "    Average_Student_Attendance = (\n",
    "                                 SELECT MIN(Average_Student_Attendance)\n",
    "                                 FROM [Chicago_Public_Schools_-_Progress_Report_Cards__2011-2012__20241004]\n",
    "                                 );\n",
    "\"\"\"\n",
    "\n",
    "data = pd.read_sql(query_str, connection)\n",
    "data"
   ]
  },
  {
   "cell_type": "markdown",
   "metadata": {
    "deletable": false,
    "editable": false,
    "tags": []
   },
   "source": [
    "## Task 3: Find the average environment score\n"
   ]
  },
  {
   "cell_type": "code",
   "execution_count": 128,
   "metadata": {},
   "outputs": [
    {
     "data": {
      "text/html": [
       "<div>\n",
       "<style scoped>\n",
       "    .dataframe tbody tr th:only-of-type {\n",
       "        vertical-align: middle;\n",
       "    }\n",
       "\n",
       "    .dataframe tbody tr th {\n",
       "        vertical-align: top;\n",
       "    }\n",
       "\n",
       "    .dataframe thead th {\n",
       "        text-align: right;\n",
       "    }\n",
       "</style>\n",
       "<table border=\"1\" class=\"dataframe\">\n",
       "  <thead>\n",
       "    <tr style=\"text-align: right;\">\n",
       "      <th></th>\n",
       "      <th>Average_Environment_Score</th>\n",
       "    </tr>\n",
       "  </thead>\n",
       "  <tbody>\n",
       "    <tr>\n",
       "      <th>0</th>\n",
       "      <td>47</td>\n",
       "    </tr>\n",
       "  </tbody>\n",
       "</table>\n",
       "</div>"
      ],
      "text/plain": [
       "   Average_Environment_Score\n",
       "0                         47"
      ]
     },
     "execution_count": 128,
     "metadata": {},
     "output_type": "execute_result"
    }
   ],
   "source": [
    "#Enter your code below\n",
    "query_str = \"\"\"\n",
    "SELECT \n",
    "    AVG(Environment_Score) AS Average_Environment_Score\n",
    "FROM \n",
    "    [Chicago_Public_Schools_-_Progress_Report_Cards__2011-2012__20241004];\n",
    "\"\"\"\n",
    "\n",
    "data = pd.read_sql(query_str, connection)\n",
    "data"
   ]
  },
  {
   "cell_type": "markdown",
   "metadata": {
    "deletable": false,
    "editable": false,
    "tags": []
   },
   "source": [
    "## Task 4: Find the number of Elementary School in community area WEST TOWN\n"
   ]
  },
  {
   "cell_type": "code",
   "execution_count": 130,
   "metadata": {},
   "outputs": [
    {
     "data": {
      "text/html": [
       "<div>\n",
       "<style scoped>\n",
       "    .dataframe tbody tr th:only-of-type {\n",
       "        vertical-align: middle;\n",
       "    }\n",
       "\n",
       "    .dataframe tbody tr th {\n",
       "        vertical-align: top;\n",
       "    }\n",
       "\n",
       "    .dataframe thead th {\n",
       "        text-align: right;\n",
       "    }\n",
       "</style>\n",
       "<table border=\"1\" class=\"dataframe\">\n",
       "  <thead>\n",
       "    <tr style=\"text-align: right;\">\n",
       "      <th></th>\n",
       "      <th>Number_of_Elementary_Schools</th>\n",
       "    </tr>\n",
       "  </thead>\n",
       "  <tbody>\n",
       "    <tr>\n",
       "      <th>0</th>\n",
       "      <td>17</td>\n",
       "    </tr>\n",
       "  </tbody>\n",
       "</table>\n",
       "</div>"
      ],
      "text/plain": [
       "   Number_of_Elementary_Schools\n",
       "0                            17"
      ]
     },
     "execution_count": 130,
     "metadata": {},
     "output_type": "execute_result"
    }
   ],
   "source": [
    "#Enter your code below\n",
    "query_str = \"\"\"\n",
    "SELECT \n",
    "    COUNT(*) AS Number_of_Elementary_Schools\n",
    "FROM \n",
    "    [Chicago_Public_Schools_-_Progress_Report_Cards__2011-2012__20241004]\n",
    "WHERE \n",
    "    Community_Area_Name = 'WEST TOWN' AND\n",
    "    Elementary_Middle_or_High_School = 'ES';\n",
    "\"\"\"\n",
    "\n",
    "data = pd.read_sql(query_str, connection)\n",
    "data"
   ]
  },
  {
   "cell_type": "markdown",
   "metadata": {
    "deletable": false,
    "editable": false,
    "tags": []
   },
   "source": [
    "## Task 5: Count all the High School that has name start by letter ‘C’"
   ]
  },
  {
   "cell_type": "code",
   "execution_count": 132,
   "metadata": {},
   "outputs": [
    {
     "data": {
      "text/html": [
       "<div>\n",
       "<style scoped>\n",
       "    .dataframe tbody tr th:only-of-type {\n",
       "        vertical-align: middle;\n",
       "    }\n",
       "\n",
       "    .dataframe tbody tr th {\n",
       "        vertical-align: top;\n",
       "    }\n",
       "\n",
       "    .dataframe thead th {\n",
       "        text-align: right;\n",
       "    }\n",
       "</style>\n",
       "<table border=\"1\" class=\"dataframe\">\n",
       "  <thead>\n",
       "    <tr style=\"text-align: right;\">\n",
       "      <th></th>\n",
       "      <th>Number_of_High_Schools</th>\n",
       "    </tr>\n",
       "  </thead>\n",
       "  <tbody>\n",
       "    <tr>\n",
       "      <th>0</th>\n",
       "      <td>9</td>\n",
       "    </tr>\n",
       "  </tbody>\n",
       "</table>\n",
       "</div>"
      ],
      "text/plain": [
       "   Number_of_High_Schools\n",
       "0                       9"
      ]
     },
     "execution_count": 132,
     "metadata": {},
     "output_type": "execute_result"
    }
   ],
   "source": [
    "#Enter your code below\n",
    "query_str = \"\"\"\n",
    "SELECT \n",
    "    COUNT(*) AS Number_of_High_Schools\n",
    "FROM \n",
    "    [Chicago_Public_Schools_-_Progress_Report_Cards__2011-2012__20241004]\n",
    "WHERE \n",
    "    Elementary_Middle_or_High_School = 'HS' AND\n",
    "    Name_of_School LIKE 'C%';\n",
    "\"\"\"\n",
    "\n",
    "data = pd.read_sql(query_str, connection)\n",
    "data"
   ]
  },
  {
   "cell_type": "markdown",
   "metadata": {
    "deletable": false,
    "editable": false,
    "tags": []
   },
   "source": [
    "## Task 6: Find the top 10 Middle School has lowest Safety Score"
   ]
  },
  {
   "cell_type": "code",
   "execution_count": 134,
   "metadata": {},
   "outputs": [
    {
     "data": {
      "text/html": [
       "<div>\n",
       "<style scoped>\n",
       "    .dataframe tbody tr th:only-of-type {\n",
       "        vertical-align: middle;\n",
       "    }\n",
       "\n",
       "    .dataframe tbody tr th {\n",
       "        vertical-align: top;\n",
       "    }\n",
       "\n",
       "    .dataframe thead th {\n",
       "        text-align: right;\n",
       "    }\n",
       "</style>\n",
       "<table border=\"1\" class=\"dataframe\">\n",
       "  <thead>\n",
       "    <tr style=\"text-align: right;\">\n",
       "      <th></th>\n",
       "      <th>Name_of_School</th>\n",
       "      <th>Safety_Score</th>\n",
       "    </tr>\n",
       "  </thead>\n",
       "  <tbody>\n",
       "    <tr>\n",
       "      <th>0</th>\n",
       "      <td>Irene C. Hernandez Middle School for the Advan...</td>\n",
       "      <td>34</td>\n",
       "    </tr>\n",
       "    <tr>\n",
       "      <th>1</th>\n",
       "      <td>Northwest Middle School</td>\n",
       "      <td>34</td>\n",
       "    </tr>\n",
       "    <tr>\n",
       "      <th>2</th>\n",
       "      <td>Ames Middle School</td>\n",
       "      <td>38</td>\n",
       "    </tr>\n",
       "    <tr>\n",
       "      <th>3</th>\n",
       "      <td>Thurgood Marshall Middle School</td>\n",
       "      <td>39</td>\n",
       "    </tr>\n",
       "    <tr>\n",
       "      <th>4</th>\n",
       "      <td>Pershing West Middle School</td>\n",
       "      <td>46</td>\n",
       "    </tr>\n",
       "    <tr>\n",
       "      <th>5</th>\n",
       "      <td>Williams Preparatory Academy Middle School</td>\n",
       "      <td>49</td>\n",
       "    </tr>\n",
       "    <tr>\n",
       "      <th>6</th>\n",
       "      <td>Francisco I Madero Middle School</td>\n",
       "      <td>49</td>\n",
       "    </tr>\n",
       "    <tr>\n",
       "      <th>7</th>\n",
       "      <td>Logandale Middle School</td>\n",
       "      <td>56</td>\n",
       "    </tr>\n",
       "    <tr>\n",
       "      <th>8</th>\n",
       "      <td>Miriam G Canter Middle School</td>\n",
       "      <td>57</td>\n",
       "    </tr>\n",
       "    <tr>\n",
       "      <th>9</th>\n",
       "      <td>Evergreen Academy Middle School</td>\n",
       "      <td>60</td>\n",
       "    </tr>\n",
       "  </tbody>\n",
       "</table>\n",
       "</div>"
      ],
      "text/plain": [
       "                                      Name_of_School  Safety_Score\n",
       "0  Irene C. Hernandez Middle School for the Advan...            34\n",
       "1                            Northwest Middle School            34\n",
       "2                                 Ames Middle School            38\n",
       "3                    Thurgood Marshall Middle School            39\n",
       "4                        Pershing West Middle School            46\n",
       "5         Williams Preparatory Academy Middle School            49\n",
       "6                   Francisco I Madero Middle School            49\n",
       "7                            Logandale Middle School            56\n",
       "8                      Miriam G Canter Middle School            57\n",
       "9                    Evergreen Academy Middle School            60"
      ]
     },
     "execution_count": 134,
     "metadata": {},
     "output_type": "execute_result"
    }
   ],
   "source": [
    "#Enter your code below\n",
    "query_str = \"\"\"\n",
    "SELECT TOP 10\n",
    "    Name_of_School,\n",
    "    Safety_Score\n",
    "FROM \n",
    "    [Chicago_Public_Schools_-_Progress_Report_Cards__2011-2012__20241004]\n",
    "WHERE \n",
    "    Elementary_Middle_or_High_School = 'MS'\n",
    "ORDER BY \n",
    "    Safety_Score ASC;\n",
    "\"\"\"\n",
    "\n",
    "data = pd.read_sql(query_str, connection)\n",
    "data"
   ]
  },
  {
   "cell_type": "markdown",
   "metadata": {
    "deletable": false,
    "editable": false,
    "tags": []
   },
   "source": [
    "## Task 7: Find all school has missing value in Leader Score column"
   ]
  },
  {
   "cell_type": "code",
   "execution_count": 136,
   "metadata": {},
   "outputs": [
    {
     "data": {
      "text/html": [
       "<div>\n",
       "<style scoped>\n",
       "    .dataframe tbody tr th:only-of-type {\n",
       "        vertical-align: middle;\n",
       "    }\n",
       "\n",
       "    .dataframe tbody tr th {\n",
       "        vertical-align: top;\n",
       "    }\n",
       "\n",
       "    .dataframe thead th {\n",
       "        text-align: right;\n",
       "    }\n",
       "</style>\n",
       "<table border=\"1\" class=\"dataframe\">\n",
       "  <thead>\n",
       "    <tr style=\"text-align: right;\">\n",
       "      <th></th>\n",
       "      <th>Name_of_School</th>\n",
       "    </tr>\n",
       "  </thead>\n",
       "  <tbody>\n",
       "    <tr>\n",
       "      <th>0</th>\n",
       "      <td>Charles G Hammond Elementary School</td>\n",
       "    </tr>\n",
       "    <tr>\n",
       "      <th>1</th>\n",
       "      <td>Daniel R Cameron Elementary School</td>\n",
       "    </tr>\n",
       "    <tr>\n",
       "      <th>2</th>\n",
       "      <td>Sir Miles Davis Magnet Elementary Academy</td>\n",
       "    </tr>\n",
       "    <tr>\n",
       "      <th>3</th>\n",
       "      <td>Luther Burbank Elementary School</td>\n",
       "    </tr>\n",
       "    <tr>\n",
       "      <th>4</th>\n",
       "      <td>James N Thorp Elementary School</td>\n",
       "    </tr>\n",
       "    <tr>\n",
       "      <th>...</th>\n",
       "      <td>...</td>\n",
       "    </tr>\n",
       "    <tr>\n",
       "      <th>266</th>\n",
       "      <td>Helen Peirce International Studies Elementary ...</td>\n",
       "    </tr>\n",
       "    <tr>\n",
       "      <th>267</th>\n",
       "      <td>Williams Preparatory Academy Middle School</td>\n",
       "    </tr>\n",
       "    <tr>\n",
       "      <th>268</th>\n",
       "      <td>Robert A Black Magnet Elementary School</td>\n",
       "    </tr>\n",
       "    <tr>\n",
       "      <th>269</th>\n",
       "      <td>Infinity Math Science and Technology High School</td>\n",
       "    </tr>\n",
       "    <tr>\n",
       "      <th>270</th>\n",
       "      <td>Daniel J Corkery Elementary School</td>\n",
       "    </tr>\n",
       "  </tbody>\n",
       "</table>\n",
       "<p>271 rows × 1 columns</p>\n",
       "</div>"
      ],
      "text/plain": [
       "                                        Name_of_School\n",
       "0                  Charles G Hammond Elementary School\n",
       "1                   Daniel R Cameron Elementary School\n",
       "2            Sir Miles Davis Magnet Elementary Academy\n",
       "3                     Luther Burbank Elementary School\n",
       "4                      James N Thorp Elementary School\n",
       "..                                                 ...\n",
       "266  Helen Peirce International Studies Elementary ...\n",
       "267         Williams Preparatory Academy Middle School\n",
       "268            Robert A Black Magnet Elementary School\n",
       "269   Infinity Math Science and Technology High School\n",
       "270                 Daniel J Corkery Elementary School\n",
       "\n",
       "[271 rows x 1 columns]"
      ]
     },
     "execution_count": 136,
     "metadata": {},
     "output_type": "execute_result"
    }
   ],
   "source": [
    "#Enter your code below\n",
    "query_str = \"\"\"\n",
    "SELECT \n",
    "    Name_of_School\n",
    "FROM \n",
    "    [Chicago_Public_Schools_-_Progress_Report_Cards__2011-2012__20241004]\n",
    "WHERE \n",
    "    Leaders_Score IS NULL;\n",
    "\"\"\"\n",
    "\n",
    "data = pd.read_sql(query_str, connection)\n",
    "data"
   ]
  },
  {
   "cell_type": "markdown",
   "metadata": {
    "deletable": false,
    "editable": false,
    "tags": []
   },
   "source": [
    "## Task 8: Find the safest elementary school in Ward 12."
   ]
  },
  {
   "cell_type": "code",
   "execution_count": 138,
   "metadata": {},
   "outputs": [
    {
     "data": {
      "text/html": [
       "<div>\n",
       "<style scoped>\n",
       "    .dataframe tbody tr th:only-of-type {\n",
       "        vertical-align: middle;\n",
       "    }\n",
       "\n",
       "    .dataframe tbody tr th {\n",
       "        vertical-align: top;\n",
       "    }\n",
       "\n",
       "    .dataframe thead th {\n",
       "        text-align: right;\n",
       "    }\n",
       "</style>\n",
       "<table border=\"1\" class=\"dataframe\">\n",
       "  <thead>\n",
       "    <tr style=\"text-align: right;\">\n",
       "      <th></th>\n",
       "      <th>Name_of_School</th>\n",
       "      <th>Safety_Score</th>\n",
       "    </tr>\n",
       "  </thead>\n",
       "  <tbody>\n",
       "    <tr>\n",
       "      <th>0</th>\n",
       "      <td>John Spry Elementary Community School</td>\n",
       "      <td>66</td>\n",
       "    </tr>\n",
       "  </tbody>\n",
       "</table>\n",
       "</div>"
      ],
      "text/plain": [
       "                          Name_of_School  Safety_Score\n",
       "0  John Spry Elementary Community School            66"
      ]
     },
     "execution_count": 138,
     "metadata": {},
     "output_type": "execute_result"
    }
   ],
   "source": [
    "#Enter your code below\n",
    "query_str = \"\"\"\n",
    "SELECT TOP 1\n",
    "    Name_of_School,\n",
    "    Safety_Score\n",
    "FROM \n",
    "    [Chicago_Public_Schools_-_Progress_Report_Cards__2011-2012__20241004]\n",
    "WHERE \n",
    "    Elementary_Middle_or_High_School = 'ES' AND\n",
    "    Ward = 12\n",
    "ORDER BY \n",
    "    Safety_Score DESC;\n",
    "\"\"\"\n",
    "\n",
    "data = pd.read_sql(query_str, connection)\n",
    "data"
   ]
  },
  {
   "cell_type": "markdown",
   "metadata": {},
   "source": [
    "## Task 9: Using only one query to find out which ZIP code has the most and how many records have that ZIP code."
   ]
  },
  {
   "cell_type": "code",
   "execution_count": 140,
   "metadata": {},
   "outputs": [
    {
     "data": {
      "text/html": [
       "<div>\n",
       "<style scoped>\n",
       "    .dataframe tbody tr th:only-of-type {\n",
       "        vertical-align: middle;\n",
       "    }\n",
       "\n",
       "    .dataframe tbody tr th {\n",
       "        vertical-align: top;\n",
       "    }\n",
       "\n",
       "    .dataframe thead th {\n",
       "        text-align: right;\n",
       "    }\n",
       "</style>\n",
       "<table border=\"1\" class=\"dataframe\">\n",
       "  <thead>\n",
       "    <tr style=\"text-align: right;\">\n",
       "      <th></th>\n",
       "      <th>ZIP_Code</th>\n",
       "      <th>Record_Count</th>\n",
       "    </tr>\n",
       "  </thead>\n",
       "  <tbody>\n",
       "    <tr>\n",
       "      <th>0</th>\n",
       "      <td>60623</td>\n",
       "      <td>35</td>\n",
       "    </tr>\n",
       "  </tbody>\n",
       "</table>\n",
       "</div>"
      ],
      "text/plain": [
       "   ZIP_Code  Record_Count\n",
       "0     60623            35"
      ]
     },
     "execution_count": 140,
     "metadata": {},
     "output_type": "execute_result"
    }
   ],
   "source": [
    "#Enter your code below\n",
    "query_str = \"\"\"\n",
    "SELECT TOP 1\n",
    "    ZIP_Code,\n",
    "    COUNT(*) AS Record_Count\n",
    "FROM \n",
    "    [Chicago_Public_Schools_-_Progress_Report_Cards__2011-2012__20241004]\n",
    "GROUP BY \n",
    "    ZIP_Code\n",
    "ORDER BY \n",
    "    Record_Count DESC;\n",
    "\"\"\"\n",
    "\n",
    "data = pd.read_sql(query_str, connection)\n",
    "data"
   ]
  },
  {
   "cell_type": "markdown",
   "metadata": {},
   "source": [
    "## Task 10: Find out which address has the most concentration of schools. List all schools at that address."
   ]
  },
  {
   "cell_type": "markdown",
   "metadata": {},
   "source": [
    "### Find the address with the most concentration of schools"
   ]
  },
  {
   "cell_type": "code",
   "execution_count": 143,
   "metadata": {},
   "outputs": [
    {
     "data": {
      "text/html": [
       "<div>\n",
       "<style scoped>\n",
       "    .dataframe tbody tr th:only-of-type {\n",
       "        vertical-align: middle;\n",
       "    }\n",
       "\n",
       "    .dataframe tbody tr th {\n",
       "        vertical-align: top;\n",
       "    }\n",
       "\n",
       "    .dataframe thead th {\n",
       "        text-align: right;\n",
       "    }\n",
       "</style>\n",
       "<table border=\"1\" class=\"dataframe\">\n",
       "  <thead>\n",
       "    <tr style=\"text-align: right;\">\n",
       "      <th></th>\n",
       "      <th>Street_Address</th>\n",
       "      <th>School_Count</th>\n",
       "    </tr>\n",
       "  </thead>\n",
       "  <tbody>\n",
       "    <tr>\n",
       "      <th>0</th>\n",
       "      <td>3120 S Kostner Ave</td>\n",
       "      <td>4</td>\n",
       "    </tr>\n",
       "  </tbody>\n",
       "</table>\n",
       "</div>"
      ],
      "text/plain": [
       "        Street_Address  School_Count\n",
       "0  3120 S Kostner Ave              4"
      ]
     },
     "execution_count": 143,
     "metadata": {},
     "output_type": "execute_result"
    }
   ],
   "source": [
    "query_str = \"\"\"\n",
    "WITH Address_School_Counts AS (\n",
    "    SELECT \n",
    "        Street_Address,\n",
    "        COUNT(*) AS School_Count\n",
    "    FROM \n",
    "        [Chicago_Public_Schools_-_Progress_Report_Cards__2011-2012__20241004]\n",
    "    GROUP BY \n",
    "        Street_Address\n",
    ")\n",
    "SELECT TOP 1\n",
    "    Street_Address,\n",
    "    School_Count\n",
    "FROM \n",
    "    Address_School_Counts\n",
    "ORDER BY \n",
    "    School_Count DESC;\n",
    "\"\"\"\n",
    "\n",
    "data = pd.read_sql(query_str, connection)\n",
    "data"
   ]
  },
  {
   "cell_type": "markdown",
   "metadata": {},
   "source": [
    "### List all schools at that address"
   ]
  },
  {
   "cell_type": "code",
   "execution_count": 145,
   "metadata": {},
   "outputs": [
    {
     "data": {
      "text/html": [
       "<div>\n",
       "<style scoped>\n",
       "    .dataframe tbody tr th:only-of-type {\n",
       "        vertical-align: middle;\n",
       "    }\n",
       "\n",
       "    .dataframe tbody tr th {\n",
       "        vertical-align: top;\n",
       "    }\n",
       "\n",
       "    .dataframe thead th {\n",
       "        text-align: right;\n",
       "    }\n",
       "</style>\n",
       "<table border=\"1\" class=\"dataframe\">\n",
       "  <thead>\n",
       "    <tr style=\"text-align: right;\">\n",
       "      <th></th>\n",
       "      <th>Name_of_School</th>\n",
       "      <th>Street_Address</th>\n",
       "    </tr>\n",
       "  </thead>\n",
       "  <tbody>\n",
       "    <tr>\n",
       "      <th>0</th>\n",
       "      <td>World Language Academy High School</td>\n",
       "      <td>3120 S Kostner Ave</td>\n",
       "    </tr>\n",
       "    <tr>\n",
       "      <th>1</th>\n",
       "      <td>Multicultural Academy of Scholarship</td>\n",
       "      <td>3120 S Kostner Ave</td>\n",
       "    </tr>\n",
       "    <tr>\n",
       "      <th>2</th>\n",
       "      <td>Greater Lawndale High School For Social Justice</td>\n",
       "      <td>3120 S Kostner Ave</td>\n",
       "    </tr>\n",
       "    <tr>\n",
       "      <th>3</th>\n",
       "      <td>Infinity Math Science and Technology High School</td>\n",
       "      <td>3120 S Kostner Ave</td>\n",
       "    </tr>\n",
       "  </tbody>\n",
       "</table>\n",
       "</div>"
      ],
      "text/plain": [
       "                                     Name_of_School       Street_Address\n",
       "0                World Language Academy High School  3120 S Kostner Ave \n",
       "1              Multicultural Academy of Scholarship  3120 S Kostner Ave \n",
       "2   Greater Lawndale High School For Social Justice  3120 S Kostner Ave \n",
       "3  Infinity Math Science and Technology High School  3120 S Kostner Ave "
      ]
     },
     "execution_count": 145,
     "metadata": {},
     "output_type": "execute_result"
    }
   ],
   "source": [
    "query_str = \"\"\"\n",
    "WITH Address_School_Counts AS (\n",
    "    SELECT \n",
    "        Street_Address,\n",
    "        COUNT(*) AS School_Count\n",
    "    FROM \n",
    "        [Chicago_Public_Schools_-_Progress_Report_Cards__2011-2012__20241004]\n",
    "    GROUP BY \n",
    "        Street_Address\n",
    ")\n",
    "SELECT \n",
    "    Name_of_School,\n",
    "    Street_Address\n",
    "FROM \n",
    "    [Chicago_Public_Schools_-_Progress_Report_Cards__2011-2012__20241004]\n",
    "WHERE \n",
    "    Street_Address = (\n",
    "        SELECT TOP 1 Street_Address\n",
    "        FROM Address_School_Counts\n",
    "        ORDER BY School_Count DESC\n",
    "    );\n",
    "\"\"\"\n",
    "\n",
    "data = pd.read_sql(query_str, connection)\n",
    "data"
   ]
  },
  {
   "cell_type": "markdown",
   "metadata": {
    "deletable": false,
    "editable": false,
    "tags": []
   },
   "source": [
    "## Close database connection"
   ]
  },
  {
   "cell_type": "code",
   "execution_count": 162,
   "metadata": {
    "deletable": false,
    "editable": false,
    "tags": []
   },
   "outputs": [],
   "source": [
    "connection.close()"
   ]
  },
  {
   "cell_type": "markdown",
   "metadata": {
    "deletable": false,
    "editable": false,
    "tags": []
   },
   "source": [
    "## Summary\n",
    "\n",
    "In this lab you established a connection to a database instance of SQL Server Warehouse from a Python notebook using `pyodbc` API. Then created a table and insert a few rows of data into it. Then queried the data. You also retrieved the data into a pandas dataframe.\n"
   ]
  },
  {
   "cell_type": "markdown",
   "metadata": {},
   "source": [
    "## Submission into google driver link \n",
    "Link: https://drive.google.com/drive/folders/1zvF3eelIYXhptxxgv5Vwps-lEM_iWqDf?usp=sharing"
   ]
  }
 ],
 "metadata": {
  "kernelspec": {
   "display_name": "Python 3 (ipykernel)",
   "language": "python",
   "name": "python3"
  },
  "language_info": {
   "codemirror_mode": {
    "name": "ipython",
    "version": 3
   },
   "file_extension": ".py",
   "mimetype": "text/x-python",
   "name": "python",
   "nbconvert_exporter": "python",
   "pygments_lexer": "ipython3",
   "version": "3.11.7"
  },
  "widgets": {
   "state": {},
   "version": "1.1.2"
  }
 },
 "nbformat": 4,
 "nbformat_minor": 4
}
